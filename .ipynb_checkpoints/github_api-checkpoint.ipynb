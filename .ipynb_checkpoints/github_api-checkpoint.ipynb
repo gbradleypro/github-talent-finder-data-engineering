{
 "cells": [
  {
   "cell_type": "markdown",
   "id": "9968e500-4536-454c-b2ac-ed013bfe5de9",
   "metadata": {},
   "source": [
    "## GitHub Search API\n",
    "\n",
    "supposedly, github will offer 5000 pings/hour\n",
    "\n",
    "however, each ping = a page of 100 search results,\n",
    "\n",
    "so 1 hr = 500K repos and (unlike the youtube api), a boatload of free metadata about each repo:\n",
    "\n",
    "### MUST HAVE:\n",
    "Repository Name (name)\n",
    "Username (login)\n",
    "Repository Owner (User/Org) (owner)\n",
    "Type (User or Organization)\n",
    "Last Update Timestamp (updated_at) — Last time the repository was updated\n",
    "Last Push Date (pushed_at) — Last time code was pushed to the repository\n",
    "Visibility (private) — Whether the repository is private or public\n",
    "Repository Size (size) — In kilobytes\n",
    "Repository URL (html_url) — Link to the repository on GitHub\n",
    "Fork Status (fork) — Whether the repository is a fork or original\n",
    "Topics (Tags) (topics) — If the repository uses topics (tags), they are included\n",
    "\n",
    "\n",
    "\n",
    "### WANT TO HAVE:\n",
    "\n",
    "Repository Creation Date (created_at)\n",
    "Star Count (stargazers_count)\n",
    "Fork Count (forks_count)\n",
    "Repository Description (description)\n",
    "Primary Language (language) — The main programming language used in the repo\n",
    "Open Issues Count (open_issues_count)\n",
    "Watchers Count (watchers_count)\n",
    "\n",
    "### DON'T NEED, BUT WILL TAKE:\n",
    "\n",
    "Repository Full Name (full_name) — Includes the owner and repository name, e.g., octocat/Hello-World\n",
    "Default Branch (default_branch) — The default branch for the repository (typically \"main\" or \"master\")\n",
    "License (license) — If the repository has a license, it provides the type\n"
   ]
  },
  {
   "cell_type": "markdown",
   "id": "44ab626d-4354-4770-a7d6-6be15c4b6d23",
   "metadata": {},
   "source": []
  },
  {
   "cell_type": "markdown",
   "id": "811b1d05-8453-4b11-9979-d773bb728e4c",
   "metadata": {},
   "source": []
  },
  {
   "cell_type": "markdown",
   "id": "4f7ae71d-c7e9-461c-8686-6a1a2867869b",
   "metadata": {},
   "source": []
  },
  {
   "cell_type": "markdown",
   "id": "9ba12f95-cb52-45c3-b480-9600abb0a564",
   "metadata": {},
   "source": []
  },
  {
   "cell_type": "markdown",
   "id": "f51f71ae-22bc-4f5c-9407-b073ca5be5c8",
   "metadata": {},
   "source": []
  },
  {
   "cell_type": "markdown",
   "id": "9ad920cc-32fa-4eef-ad0a-e18636c7f5b5",
   "metadata": {},
   "source": []
  },
  {
   "cell_type": "markdown",
   "id": "30640250-54b5-4c85-85b7-39be3a5a06b8",
   "metadata": {},
   "source": []
  },
  {
   "cell_type": "markdown",
   "id": "6b905df0-34ae-4068-b632-92047e02013a",
   "metadata": {},
   "source": []
  },
  {
   "cell_type": "markdown",
   "id": "7749196c-6427-4bad-938a-20dd31d8ab6a",
   "metadata": {},
   "source": []
  },
  {
   "cell_type": "markdown",
   "id": "ed793914-2f67-4f67-bbee-0b3d0e8a6ac4",
   "metadata": {},
   "source": []
  },
  {
   "cell_type": "markdown",
   "id": "3e208995-6663-458a-bc2f-295f08e51ad4",
   "metadata": {},
   "source": []
  },
  {
   "cell_type": "markdown",
   "id": "474a5c84-dc87-44f5-92f9-bd449f694e11",
   "metadata": {},
   "source": []
  },
  {
   "cell_type": "markdown",
   "id": "e4ad87a2-83a8-4b15-932e-0c0c369fa7a4",
   "metadata": {},
   "source": []
  },
  {
   "cell_type": "markdown",
   "id": "11eaf7eb-aa2b-4134-ba0b-0e8a05e0fce4",
   "metadata": {},
   "source": []
  },
  {
   "cell_type": "markdown",
   "id": "b56d3d60-2271-41e1-9cca-84e33527312b",
   "metadata": {},
   "source": [
    "m`m"
   ]
  }
 ],
 "metadata": {
  "kernelspec": {
   "display_name": "Python 3 (ipykernel)",
   "language": "python",
   "name": "python3"
  },
  "language_info": {
   "codemirror_mode": {
    "name": "ipython",
    "version": 3
   },
   "file_extension": ".py",
   "mimetype": "text/x-python",
   "name": "python",
   "nbconvert_exporter": "python",
   "pygments_lexer": "ipython3",
   "version": "3.10.11"
  }
 },
 "nbformat": 4,
 "nbformat_minor": 5
}
