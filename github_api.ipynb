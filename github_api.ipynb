{
 "cells": [
  {
   "cell_type": "markdown",
   "id": "9968e500-4536-454c-b2ac-ed013bfe5de9",
   "metadata": {},
   "source": [
    "## GitHub Search API\n",
    "\n",
    "supposedly, github will offer 5000 pings/hour\n",
    "\n",
    "however, each ping = a page of 100 search results,\n",
    "\n",
    "so 1 hr = 500K repos and (unlike the youtube api), a boatload of free metadata about each repo:\n",
    "\n",
    "### MUST HAVE:\n",
    "Repository Name (name)\n",
    "Username (login)\n",
    "Repository Owner (User/Org) (owner)\n",
    "Type (User or Organization)\n",
    "Last Update Timestamp (updated_at) — Last time the repository was updated\n",
    "Last Push Date (pushed_at) — Last time code was pushed to the repository\n",
    "Visibility (private) — Whether the repository is private or public\n",
    "Repository Size (size) — In kilobytes\n",
    "Repository URL (html_url) — Link to the repository on GitHub\n",
    "Fork Status (fork) — Whether the repository is a fork or original\n",
    "Topics (Tags) (topics) — If the repository uses topics (tags), they are included\n",
    "\n",
    "\n",
    "\n",
    "### WANT TO HAVE:\n",
    "\n",
    "Repository Creation Date (created_at)\n",
    "Star Count (stargazers_count)\n",
    "Fork Count (forks_count)\n",
    "Repository Description (description)\n",
    "Primary Language (language) — The main programming language used in the repo\n",
    "Open Issues Count (open_issues_count)\n",
    "Watchers Count (watchers_count)\n",
    "\n",
    "### DON'T NEED, BUT WILL TAKE:\n",
    "\n",
    "Repository Full Name (full_name) — Includes the owner and repository name, e.g., octocat/Hello-World\n",
    "Default Branch (default_branch) — The default branch for the repository (typically \"main\" or \"master\")\n",
    "License (license) — If the repository has a license, it provides the type\n"
   ]
  },
  {
   "cell_type": "markdown",
   "id": "44ab626d-4354-4770-a7d6-6be15c4b6d23",
   "metadata": {},
   "source": [
    "Were updated within a specific time window: september 1st 12:00AM to 12:01AM (only a 60 second window)\n",
    "Are not forks,\n",
    "Have 1-10 stars,\n",
    "And are tagged with \"supervised-learning\"\n",
    "filters out archived\n",
    "filters out private (only shows public)"
   ]
  },
  {
   "cell_type": "markdown",
   "id": "811b1d05-8453-4b11-9979-d773bb728e4c",
   "metadata": {},
   "source": [
    "Were updated within a specific time window: september 1st 12:00AM to 12:01AM (only a 60 second window)\n",
    "Are not forks,\n",
    "Have 1-10 stars,\n",
    "And are tagged with \"supervised-learning\"\n"
   ]
  },
  {
   "cell_type": "markdown",
   "id": "4f7ae71d-c7e9-461c-8686-6a1a2867869b",
   "metadata": {},
   "source": []
  },
  {
   "cell_type": "markdown",
   "id": "9ba12f95-cb52-45c3-b480-9600abb0a564",
   "metadata": {},
   "source": [
    "### repository commits API"
   ]
  },
  {
   "cell_type": "raw",
   "id": "1a495879-da42-4095-a221-34410372df1c",
   "metadata": {},
   "source": []
  },
  {
   "cell_type": "markdown",
   "id": "9ad920cc-32fa-4eef-ad0a-e18636c7f5b5",
   "metadata": {},
   "source": [
    "{\n",
    "  \"total_count\": 83,\n",
    "  \"incomplete_results\": false,\n",
    "  \"items\": [\n",
    "    {\n",
    "      \"id\": 55323265,\n",
    "      \"node_id\": \"MDEwOlJlcG9zaXRvcnk1NTMyMzI2NQ==\",\n",
    "      \"name\": \"recipe-db\",\n",
    "      \"full_name\": \"tabatkins/recipe-db\",\n",
    "      \"private\": false,\n",
    "      \"owner\": {\n",
    "        \"login\": \"tabatkins\",\n",
    "        \"id\": 682840,\n",
    "        \"node_id\": \"MDQ6VXNlcjY4Mjg0MA==\",\n",
    "        \"avatar_url\": \"https://avatars.githubusercontent.com/u/682840?v=4\",\n",
    "        \"gravatar_id\": \"\",\n",
    "        \"url\": \"https://api.github.com/users/tabatkins\",\n",
    "        \"html_url\": \"https://github.com/tabatkins\",\n",
    "        \"followers_url\": \"https://api.github.com/users/tabatkins/followers\",\n",
    "        \"following_url\": \"https://api.github.com/users/tabatkins/following{/other_user}\",\n",
    "        \"gists_url\": \"https://api.github.com/users/tabatkins/gists{/gist_id}\",\n",
    "        \"starred_url\": \"https://api.github.com/users/tabatkins/starred{/owner}{/repo}\",\n",
    "        \"subscriptions_url\": \"https://api.github.com/users/tabatkins/subscriptions\",\n",
    "        \"organizations_url\": \"https://api.github.com/users/tabatkins/orgs\",\n",
    "        \"repos_url\": \"https://api.github.com/users/tabatkins/repos\",\n",
    "        \"events_url\": \"https://api.github.com/users/tabatkins/events{/privacy}\",\n",
    "        \"received_events_url\": \"https://api.github.com/users/tabatkins/received_events\",\n",
    "        \"type\": \"User\",\n",
    "        \"site_admin\": false\n",
    "      },\n",
    "      \"html_url\": \"https://github.com/tabatkins/recipe-db\",\n",
    "      \"description\": \"Database of recipes used by http://xanthir.com/recipes/\",\n",
    "      \"fork\": false,\n",
    "      \"url\": \"https://api.github.com/repos/tabatkins/recipe-db\",\n",
    "      \"forks_url\": \"https://api.github.com/repos/tabatkins/recipe-db/forks\",\n",
    "      \"keys_url\": \"https://api.github.com/repos/tabatkins/recipe-db/keys{/key_id}\",\n",
    "      \"collaborators_url\": \"https://api.github.com/repos/tabatkins/recipe-db/collaborators{/collaborator}\",\n",
    "      \"teams_url\": \"https://api.github.com/repos/tabatkins/recipe-db/teams\",\n",
    "      \"hooks_url\": \"https://api.github.com/repos/tabatkins/recipe-db/hooks\",\n",
    "      \"issue_events_url\": \"https://api.github.com/repos/tabatkins/recipe-db/issues/events{/number}\",\n",
    "      \"events_url\": \"https://api.github.com/repos/tabatkins/recipe-db/events\",\n",
    "      \"assignees_url\": \"https://api.github.com/repos/tabatkins/recipe-db/assignees{/user}\",\n",
    "      \"branches_url\": \"https://api.github.com/repos/tabatkins/recipe-db/branches{/branch}\",\n",
    "      \"tags_url\": \"https://api.github.com/repos/tabatkins/recipe-db/tags\",\n",
    "      \"blobs_url\": \"https://api.github.com/repos/tabatkins/recipe-db/git/blobs{/sha}\",\n",
    "      \"git_tags_url\": \"https://api.github.com/repos/tabatkins/recipe-db/git/tags{/sha}\",\n",
    "      \"git_refs_url\": \"https://api.github.com/repos/tabatkins/recipe-db/git/refs{/sha}\",\n",
    "      \"trees_url\": \"https://api.github.com/repos/tabatkins/recipe-db/git/trees{/sha}\",\n",
    "      \"statuses_url\": \"https://api.github.com/repos/tabatkins/recipe-db/statuses/{sha}\",\n",
    "      \"languages_url\": \"https://api.github.com/repos/tabatkins/recipe-db/languages\",\n",
    "      \"stargazers_url\": \"https://api.github.com/repos/tabatkins/recipe-db/stargazers\",\n",
    "      \"contributors_url\": \"https://api.github.com/repos/tabatkins/recipe-db/contributors\",\n",
    "      \"subscribers_url\": \"https://api.github.com/repos/tabatkins/recipe-db/subscribers\",\n",
    "      \"subscription_url\": \"https://api.github.com/repos/tabatkins/recipe-db/subscription\",\n",
    "      \"commits_url\": \"https://api.github.com/repos/tabatkins/recipe-db/commits{/sha}\",\n",
    "      \"git_commits_url\": \"https://api.github.com/repos/tabatkins/recipe-db/git/commits{/sha}\",\n",
    "      \"comments_url\": \"https://api.github.com/repos/tabatkins/recipe-db/comments{/number}\",\n",
    "      \"issue_comment_url\": \"https://api.github.com/repos/tabatkins/recipe-db/issues/comments{/number}\",\n",
    "      \"contents_url\": \"https://api.github.com/repos/tabatkins/recipe-db/contents/{+path}\",\n",
    "      \"compare_url\": \"https://api.github.com/repos/tabatkins/recipe-db/compare/{base}...{head}\",\n",
    "      \"merges_url\": \"https://api.github.com/repos/tabatkins/recipe-db/merges\",\n",
    "      \"archive_url\": \"https://api.github.com/repos/tabatkins/recipe-db/{archive_format}{/ref}\",\n",
    "      \"downloads_url\": \"https://api.github.com/repos/tabatkins/recipe-db/downloads\",\n",
    "      \"issues_url\": \"https://api.github.com/repos/tabatkins/recipe-db/issues{/number}\",\n",
    "      \"pulls_url\": \"https://api.github.com/repos/tabatkins/recipe-db/pulls{/number}\",\n",
    "      \"milestones_url\": \"https://api.github.com/repos/tabatkins/recipe-db/milestones{/number}\",\n",
    "      \"notifications_url\": \"https://api.github.com/repos/tabatkins/recipe-db/notifications{?since,all,participating}\",\n",
    "      \"labels_url\": \"https://api.github.com/repos/tabatkins/recipe-db/labels{/name}\",\n",
    "      \"releases_url\": \"https://api.github.com/repos/tabatkins/recipe-db/releases{/id}\",\n",
    "      \"deployments_url\": \"https://api.github.com/repos/tabatkins/recipe-db/deployments\",\n",
    "      \"created_at\": \"2016-04-03T00:54:23Z\",\n",
    "      \"updated_at\": \"2024-09-01T00:00:18Z\",\n",
    "      \"pushed_at\": \"2024-09-01T00:00:15Z\",\n",
    "      \"git_url\": \"git://github.com/tabatkins/recipe-db.git\",\n",
    "      \"ssh_url\": \"git@github.com:tabatkins/recipe-db.git\",\n",
    "      \"clone_url\": \"https://github.com/tabatkins/recipe-db.git\",\n",
    "      \"svn_url\": \"https://github.com/tabatkins/recipe-db\",\n",
    "      \"homepage\": null,\n",
    "      \"size\": 2325,\n",
    "      \"stargazers_count\": 48,\n",
    "      \"watchers_count\": 48,\n",
    "      \"language\": null,\n",
    "      \"has_issues\": false,\n",
    "      \"has_projects\": false,\n",
    "      \"has_downloads\": true,\n",
    "      \"has_wiki\": false,\n",
    "      \"has_pages\": false,\n",
    "      \"has_discussions\": false,\n",
    "      \"forks_count\": 71,\n",
    "      \"mirror_url\": null,\n",
    "      \"archived\": false,\n",
    "      \"disabled\": false,\n",
    "      \"open_issues_count\": 0,\n",
    "      \"license\": null,\n",
    "      \"allow_forking\": true,\n",
    "      \"is_template\": false,\n",
    "      \"web_commit_signoff_required\": false,\n",
    "      \"topics\": [\n",
    "\n",
    "      ],\n",
    "      \"visibility\": \"public\",\n",
    "      \"forks\": 71,\n",
    "      \"open_issues\": 0,\n",
    "      \"watchers\": 48,\n",
    "      \"default_branch\": \"master\",\n",
    "      \"score\": 1.0\n",
    "    },"
   ]
  },
  {
   "attachments": {
    "0b90d566-1710-478d-9152-87f24e565264.png": {
     "image/png": "[encoded data removed]"
    }
   },
   "cell_type": "markdown",
   "id": "30640250-54b5-4c85-85b7-39be3a5a06b8",
   "metadata": {},
   "source": [
    "This 1000 result limit is the reason why I shouldn't try to ping once every day. I tried a 1 hour period and it fed back 5500 results, well above the 1000 limit. FYI, that tracks well with my initial 1-minute test that showed 83 results (83 results/min * 60 mins/hr = 4,980 results/hr).\n",
    "\n",
    "\n",
    "![image.png](attachment:0b90d566-1710-478d-9152-87f24e565264.png)"
   ]
  },
  {
   "cell_type": "markdown",
   "id": "6b905df0-34ae-4068-b632-92047e02013a",
   "metadata": {},
   "source": []
  },
  {
   "cell_type": "markdown",
   "id": "7749196c-6427-4bad-938a-20dd31d8ab6a",
   "metadata": {},
   "source": []
  },
  {
   "cell_type": "markdown",
   "id": "ed793914-2f67-4f67-bbee-0b3d0e8a6ac4",
   "metadata": {},
   "source": []
  },
  {
   "cell_type": "markdown",
   "id": "3e208995-6663-458a-bc2f-295f08e51ad4",
   "metadata": {},
   "source": []
  },
  {
   "cell_type": "markdown",
   "id": "474a5c84-dc87-44f5-92f9-bd449f694e11",
   "metadata": {},
   "source": []
  },
  {
   "cell_type": "markdown",
   "id": "e4ad87a2-83a8-4b15-932e-0c0c369fa7a4",
   "metadata": {},
   "source": []
  },
  {
   "cell_type": "markdown",
   "id": "11eaf7eb-aa2b-4134-ba0b-0e8a05e0fce4",
   "metadata": {},
   "source": []
  },
  {
   "cell_type": "markdown",
   "id": "b56d3d60-2271-41e1-9cca-84e33527312b",
   "metadata": {},
   "source": [
    "m`m"
   ]
  }
 ],
 "metadata": {
  "kernelspec": {
   "display_name": "Python 3 (ipykernel)",
   "language": "python",
   "name": "python3"
  },
  "language_info": {
   "codemirror_mode": {
    "name": "ipython",
    "version": 3
   },
   "file_extension": ".py",
   "mimetype": "text/x-python",
   "name": "python",
   "nbconvert_exporter": "python",
   "pygments_lexer": "ipython3",
   "version": "3.10.11"
  }
 },
 "nbformat": 4,
 "nbformat_minor": 5
}
